{
 "cells": [
  {
   "cell_type": "code",
   "execution_count": 1,
   "id": "c4db53ad",
   "metadata": {},
   "outputs": [],
   "source": [
    "from keras.models import Sequential\n",
    "from keras.layers import Dense\n",
    "from keras.wrappers.scikit_learn import KerasClassifier\n",
    "from keras.utils import np_utils\n",
    "import tensorflow as tf\n",
    "import csv\n",
    "\n"
   ]
  },
  {
   "cell_type": "code",
   "execution_count": null,
   "id": "a1d47013",
   "metadata": {},
   "outputs": [],
   "source": [
    "def model():\n",
    "    model = Sequential()\n",
    "    model.add(Dense(8,input_dim=10,activation='relu'))\n",
    "    model.add(Dense(2,activation='softmax'))\n",
    "    model.compile(loss='categorical_crossentropy',optimizer='adam',\n",
    "              metrics=['accuracy'])\n",
    "return model\n",
    "estimator = KerasClassifier(build_fn=base_model,epochs=300,\n",
    "                            batch_size=200)"
   ]
  },
  {
   "cell_type": "code",
   "execution_count": null,
   "id": "220b1a8e",
   "metadata": {},
   "outputs": [],
   "source": [
    "# Model 1: all input features \n",
    "\n",
    "import csv\n",
    "file = open(\"Desktop/data.csv\")\n",
    "csvreader = csv.reader(file)\n",
    "header = next(csvreader)\n",
    "rows = []\n",
    "for row in csvreader:\n",
    "    rows.append(row)\n",
    "print(rows)\n",
    "file.close()\n",
    "\n",
    "x_all = rows\n",
    "y_all = header\n",
    "MinMaxScaler().fit_transform(x_all)\n",
    "enc = LabelEncoder()\n",
    "en.fit(y)\n",
    "encoded_y = encoder.transform(y)\n",
    "X_train,X_test,Y_train,Y_test = train_test_split(x,encoded_y,test_size=0.3,random_state=15)\n",
    " \n",
    "\n",
    "\n",
    "\n",
    "    \n",
    "\n",
    "\n",
    "\n",
    "\n",
    "\n",
    "\n"
   ]
  },
  {
   "cell_type": "code",
   "execution_count": null,
   "id": "5268e114",
   "metadata": {},
   "outputs": [],
   "source": [
    "\n",
    "def validate():\n",
    "    \n",
    "    fold = KFold(n_splits=10,shuffle=True)\n",
    "    results = cross_val_score(estimator,,enc_y,cv=kfold)\n",
    "    print((results.mean()*100,results.std()*100))\n",
    "def test():\n",
    "    estimator.fit(X_train,Y_train)\n",
    "    y_preds = estimator.predict(X_test)"
   ]
  }
 ],
 "metadata": {
  "kernelspec": {
   "display_name": "Python 3 (ipykernel)",
   "language": "python",
   "name": "python3"
  },
  "language_info": {
   "codemirror_mode": {
    "name": "ipython",
    "version": 3
   },
   "file_extension": ".py",
   "mimetype": "text/x-python",
   "name": "python",
   "nbconvert_exporter": "python",
   "pygments_lexer": "ipython3",
   "version": "3.9.7"
  }
 },
 "nbformat": 4,
 "nbformat_minor": 5
}
